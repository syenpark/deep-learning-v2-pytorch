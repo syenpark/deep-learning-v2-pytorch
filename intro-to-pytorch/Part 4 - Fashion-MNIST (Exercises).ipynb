{
 "cells": [
  {
   "cell_type": "markdown",
   "metadata": {},
   "source": [
    "# Classifying Fashion-MNIST\n",
    "\n",
    "Now it's your turn to build and train a neural network. You'll be using the [Fashion-MNIST dataset](https://github.com/zalandoresearch/fashion-mnist), a drop-in replacement for the MNIST dataset. MNIST is actually quite trivial with neural networks where you can easily achieve better than 97% accuracy. Fashion-MNIST is a set of 28x28 greyscale images of clothes. It's more complex than MNIST, so it's a better representation of the actual performance of your network, and a better representation of datasets you'll use in the real world.\n",
    "\n",
    "<img src='assets/fashion-mnist-sprite.png' width=500px>\n",
    "\n",
    "In this notebook, you'll build your own neural network. For the most part, you could just copy and paste the code from Part 3, but you wouldn't be learning. It's important for you to write the code yourself and get it to work. Feel free to consult the previous notebooks though as you work through this.\n",
    "\n",
    "First off, let's load the dataset through torchvision."
   ]
  },
  {
   "cell_type": "code",
<<<<<<< HEAD
   "execution_count": 1,
=======
   "execution_count": null,
>>>>>>> master
   "metadata": {},
   "outputs": [],
   "source": [
    "import torch\n",
    "from torchvision import datasets, transforms\n",
    "import helper\n",
    "\n",
    "# Define a transform to normalize the data\n",
    "transform = transforms.Compose([transforms.ToTensor(),\n",
    "                                transforms.Normalize((0.5, 0.5, 0.5), (0.5, 0.5, 0.5))])\n",
    "# Download and load the training data\n",
    "trainset = datasets.FashionMNIST('~/.pytorch/F_MNIST_data/', download=True, train=True, transform=transform)\n",
    "trainloader = torch.utils.data.DataLoader(trainset, batch_size=64, shuffle=True)\n",
    "\n",
    "# Download and load the test data\n",
    "testset = datasets.FashionMNIST('~/.pytorch/F_MNIST_data/', download=True, train=False, transform=transform)\n",
    "testloader = torch.utils.data.DataLoader(testset, batch_size=64, shuffle=True)"
   ]
  },
  {
   "cell_type": "markdown",
   "metadata": {},
   "source": [
    "Here we can see one of the images."
   ]
  },
  {
   "cell_type": "code",
<<<<<<< HEAD
   "execution_count": 2,
   "metadata": {},
   "outputs": [
    {
     "data": {
      "image/png": "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\n",
      "text/plain": [
       "<Figure size 432x288 with 1 Axes>"
      ]
     },
     "metadata": {
      "needs_background": "light"
     },
     "output_type": "display_data"
    }
   ],
=======
   "execution_count": null,
   "metadata": {},
   "outputs": [],
>>>>>>> master
   "source": [
    "image, label = next(iter(trainloader))\n",
    "helper.imshow(image[0,:]);"
   ]
  },
  {
   "cell_type": "markdown",
   "metadata": {},
   "source": [
    "## Building the network\n",
    "\n",
    "Here you should define your network. As with MNIST, each image is 28x28 which is a total of 784 pixels, and there are 10 classes. You should include at least one hidden layer. We suggest you use ReLU activations for the layers and to return the logits or log-softmax from the forward pass. It's up to you how many layers you add and the size of those layers."
   ]
  },
  {
   "cell_type": "code",
   "execution_count": 14,
   "metadata": {},
   "outputs": [],
   "source": [
    "from torch import nn\n",
    "# TODO: Define your network architecture here\n",
    "model = nn.Sequential(nn.Linear(784, 128),\n",
    "                      nn.ReLU(),\n",
    "                      nn.Linear(128, 64),\n",
    "                      nn.ReLU(),\n",
    "                      nn.Linear(64, 10),\n",
    "                      nn.LogSoftmax(dim=1))"
   ]
  },
  {
   "cell_type": "markdown",
   "metadata": {},
   "source": [
    "# Train the network\n",
    "\n",
    "Now you should create your network and train it. First you'll want to define [the criterion](http://pytorch.org/docs/master/nn.html#loss-functions) ( something like `nn.CrossEntropyLoss`) and [the optimizer](http://pytorch.org/docs/master/optim.html) (typically `optim.SGD` or `optim.Adam`).\n",
    "\n",
    "Then write the training code. Remember the training pass is a fairly straightforward process:\n",
    "\n",
    "* Make a forward pass through the network to get the logits \n",
    "* Use the logits to calculate the loss\n",
    "* Perform a backward pass through the network with `loss.backward()` to calculate the gradients\n",
    "* Take a step with the optimizer to update the weights\n",
    "\n",
    "By adjusting the hyperparameters (hidden units, learning rate, etc), you should be able to get the training loss below 0.4."
   ]
  },
  {
   "cell_type": "code",
   "execution_count": 21,
   "metadata": {},
   "outputs": [],
   "source": [
    "# TODO: Create the network, define the criterion and optimizer\n",
    "from torch import optim\n",
    "\n",
    "criterion = nn.CrossEntropyLoss()\n",
    "optimizer = optim.Adam(model.parameters(), lr=0.0003)"
   ]
  },
  {
   "cell_type": "code",
   "execution_count": 22,
   "metadata": {},
   "outputs": [
    {
     "name": "stdout",
     "output_type": "stream",
     "text": [
      "Trainin loss: 0.25050322035911365\n",
      "Trainin loss: 0.23792287833623285\n",
      "Trainin loss: 0.23128903850214058\n",
      "Trainin loss: 0.22532952045485663\n",
      "Trainin loss: 0.22072412688007106\n"
     ]
    }
   ],
   "source": [
    "# TODO: Train the network here\n",
    "epochs = 5\n",
    "\n",
    "for e in range(epochs):\n",
    "    running_loss = 0\n",
    "    \n",
    "    for images, labels in trainloader:\n",
    "        # flatten images into a long vector\n",
    "        images = images.view(images.shape[0], -1)\n",
    "        \n",
    "        # Clear the gradients, do this because gradients are accumulated in PyTorch\n",
    "        optimizer.zero_grad()\n",
    "        \n",
    "        # Forward pass\n",
    "        output = model.forward(images)\n",
    "        loss = criterion(output, labels)\n",
    "        \n",
    "        # Backward pass, then update weights\n",
    "        loss.backward()\n",
    "        \n",
    "        # Take an update step\n",
    "        optimizer.step()\n",
    "        \n",
    "        running_loss += loss.item()\n",
    "    else:\n",
    "        print(f\"Trainin loss: {running_loss/len(trainloader)}\")"
   ]
  },
  {
   "cell_type": "code",
   "execution_count": 26,
   "metadata": {},
   "outputs": [
    {
     "data": {
      "image/png": "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\n",
      "text/plain": [
       "<Figure size 432x648 with 2 Axes>"
      ]
     },
     "metadata": {
      "image/png": {
       "height": 204,
       "width": 423
      },
      "needs_background": "light"
     },
     "output_type": "display_data"
    }
   ],
   "source": [
    "%matplotlib inline\n",
    "%config InlineBackend.figure_format = 'retina'\n",
    "\n",
    "import helper\n",
    "\n",
    "# Test out your network!\n",
    "\n",
    "dataiter = iter(testloader)\n",
    "images, labels = dataiter.next()\n",
    "img = images[0]\n",
    "# Convert 2D image to 1D vector\n",
    "img = img.resize_(1, 784)\n",
    "\n",
    "# TODO: Calculate the class probabilities (softmax) for img\n",
    "ps = torch.exp(model(img))\n",
    "\n",
    "# Plot the image and probabilities\n",
    "helper.view_classify(img.resize_(1, 28, 28), ps, version='Fashion')"
   ]
  }
 ],
 "metadata": {
  "kernelspec": {
   "display_name": "Python 3",
   "language": "python",
   "name": "python3"
  },
  "language_info": {
   "codemirror_mode": {
    "name": "ipython",
    "version": 3
   },
   "file_extension": ".py",
   "mimetype": "text/x-python",
   "name": "python",
   "nbconvert_exporter": "python",
   "pygments_lexer": "ipython3",
<<<<<<< HEAD
   "version": "3.7.0"
=======
   "version": "3.6.7"
>>>>>>> master
  }
 },
 "nbformat": 4,
 "nbformat_minor": 2
}
